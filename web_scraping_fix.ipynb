{
 "cells": [
  {
   "cell_type": "markdown",
   "metadata": {},
   "source": [
    "# Introduction to Web Scraping\n",
    "\n",
    "Welcome to the Web scraping workshop. In this workshop, you will learn the fundamental concepts and techniques used to extract valuable insight from websites and large Data structures. Data mining is a crucial skill in today's data-driven world, enabling you to uncover patterns, trends, and relationships within data that can inform decision-making and drive business success.\n",
    "\n",
    "## Course Objectives\n",
    "\n",
    "By the end of this course, you will be able to:\n",
    "\n",
    "- Understand the basic principles of data mining and its importance.\n",
    "- Preprocess and clean data to prepare it for analysis.\n",
    "- Apply various data mining techniques such as classification, clustering, and association rule mining.\n",
    "- Evaluate the performance of data mining models.\n",
    "- Use popular data mining tools and software.\n",
    "\n",
    "## Course Outline\n",
    "\n",
    "1. **Introduction to Data Mining**\n",
    "\n",
    "    - Definition and significance\n",
    "    - Applications of data mining\n",
    "    - Data mining process\n",
    "\n",
    "2. **Website scraping**\n",
    "\n",
    "    - Introduction to web scraping\n",
    "    - Web scraping tools\n",
    "    - Web scraping with Python\n",
    "  \n",
    "3. **Data Preprocessing**\n",
    "\n",
    "    - Data cleaning\n",
    "    - Data transformation\n",
    "    - Data reduction\n",
    "    - Data discretization\n",
    "\n",
    "4. **Data Formatting**\n",
    "\n",
    "    - Data types\n",
    "    - Data encoding\n",
    "    - Data normalization\n",
    "    - Data standardization"
   ]
  },
  {
   "cell_type": "markdown",
   "metadata": {},
   "source": [
    "Run the cell below to install all the libraries that we will be needing for this workshop."
   ]
  },
  {
   "cell_type": "code",
   "execution_count": 1,
   "metadata": {},
   "outputs": [
    {
     "name": "stdout",
     "output_type": "stream",
     "text": [
      "Requirement already satisfied: pandas in c:\\users\\vitov\\desktop\\web_scraping_lab\\.venv\\lib\\site-packages (2.2.3)Note: you may need to restart the kernel to use updated packages.\n",
      "\n",
      "Requirement already satisfied: requests in c:\\users\\vitov\\desktop\\web_scraping_lab\\.venv\\lib\\site-packages (2.32.3)\n",
      "Requirement already satisfied: beautifulsoup4 in c:\\users\\vitov\\desktop\\web_scraping_lab\\.venv\\lib\\site-packages (4.12.3)\n",
      "Requirement already satisfied: numpy>=1.23.2 in c:\\users\\vitov\\desktop\\web_scraping_lab\\.venv\\lib\\site-packages (from pandas) (2.1.3)\n",
      "Requirement already satisfied: python-dateutil>=2.8.2 in c:\\users\\vitov\\desktop\\web_scraping_lab\\.venv\\lib\\site-packages (from pandas) (2.9.0.post0)\n",
      "Requirement already satisfied: pytz>=2020.1 in c:\\users\\vitov\\desktop\\web_scraping_lab\\.venv\\lib\\site-packages (from pandas) (2024.2)\n",
      "Requirement already satisfied: tzdata>=2022.7 in c:\\users\\vitov\\desktop\\web_scraping_lab\\.venv\\lib\\site-packages (from pandas) (2024.2)\n",
      "Requirement already satisfied: charset-normalizer<4,>=2 in c:\\users\\vitov\\desktop\\web_scraping_lab\\.venv\\lib\\site-packages (from requests) (3.4.0)\n",
      "Requirement already satisfied: idna<4,>=2.5 in c:\\users\\vitov\\desktop\\web_scraping_lab\\.venv\\lib\\site-packages (from requests) (3.10)\n",
      "Requirement already satisfied: urllib3<3,>=1.21.1 in c:\\users\\vitov\\desktop\\web_scraping_lab\\.venv\\lib\\site-packages (from requests) (2.2.3)\n",
      "Requirement already satisfied: certifi>=2017.4.17 in c:\\users\\vitov\\desktop\\web_scraping_lab\\.venv\\lib\\site-packages (from requests) (2024.8.30)\n",
      "Requirement already satisfied: soupsieve>1.2 in c:\\users\\vitov\\desktop\\web_scraping_lab\\.venv\\lib\\site-packages (from beautifulsoup4) (2.6)\n",
      "Requirement already satisfied: six>=1.5 in c:\\users\\vitov\\desktop\\web_scraping_lab\\.venv\\lib\\site-packages (from python-dateutil>=2.8.2->pandas) (1.16.0)\n"
     ]
    }
   ],
   "source": [
    "%pip install pandas requests beautifulsoup4"
   ]
  },
  {
   "cell_type": "markdown",
   "metadata": {},
   "source": [
    "## Introduction to Python Data Mining tools\n",
    "\n",
    "Here is an overview of all the python libraries that we will be using in this workshop:\n",
    "\n",
    "- **Pandas**: A powerful data manipulation and analysis library that provides data structures like DataFrames, which are ideal for handling structured data. Think of this as Excel but for python where each column is a series and each row is a record. This will be used so that we can easily manipulate and clean our data."
   ]
  },
  {
   "cell_type": "markdown",
   "metadata": {},
   "source": [
    "## Introduction to requests\n",
    "\n",
    "The requests library allows you to send HTTP requests using Python. It abstracts the complexities of making requests behind a simple API, making it easy to interact with web services and APIs.\n",
    "\n",
    "### Making a basic GET request\n",
    "\n",
    "A get request is used to retrieve data from a server. Here is an example of how it would look like:"
   ]
  },
  {
   "cell_type": "code",
   "execution_count": null,
   "metadata": {},
   "outputs": [],
   "source": [
    "import requests\n",
    "\n",
    "response = requests.get('https://teamacademy.nl/')\n"
   ]
  },
  {
   "cell_type": "code",
   "execution_count": null,
   "metadata": {},
   "outputs": [],
   "source": [
    "\n",
    "from bs4 import BeautifulSoup\n",
    "\n",
    "# Step 1: Send a GET request to the website\n",
    "url = 'http://example.com'  # Replace with the URL of the website you want to scrape\n",
    "response = requests.get(url)\n",
    "\n",
    "# Step 2: Check the status code of the response\n",
    "if response.status_code == 200:\n",
    "    print(\"Successfully fetched the webpage\")\n",
    "else:\n",
    "    print(f\"Failed to fetch the webpage. Status code: {response.status_code}\")\n",
    "\n",
    "# Step 3: Parse the HTML content of the webpage\n",
    "soup = BeautifulSoup(response.content, 'html.parser')\n",
    "\n",
    "# Step 4: Extract specific data from the HTML\n",
    "# For example, let's extract all the headings (h1, h2, h3, etc.) from the webpage\n",
    "headings = soup.find_all(['h1', 'h2', 'h3', 'h4', 'h5', 'h6'])\n",
    "\n",
    "# Step 5: Print the extracted headings\n",
    "for heading in headings:\n",
    "    print(heading.text.strip())\n",
    "\n",
    "# Step 6: Extract links from the webpage\n",
    "links = soup.find_all('a')\n",
    "\n",
    "# Step 7: Print the extracted links\n",
    "for link in links:\n",
    "    href = link.get('href')\n",
    "    text = link.text.strip()\n",
    "    print(f\"Link text: {text}, URL: {href}\")\n",
    "\n",
    "# Step 8: Extract paragraphs from the webpage\n",
    "paragraphs = soup.find_all('p')\n",
    "\n",
    "# Step 9: Print the extracted paragraphs\n",
    "for paragraph in paragraphs:\n",
    "    print(paragraph.text.strip())"
   ]
  },
  {
   "cell_type": "markdown",
   "metadata": {},
   "source": [
    "## Demonstration on How to Use Pandas\n",
    "\n",
    "Pandas is a powerful data manipulation and analysis library in Python. It provides data structures like DataFrames, which are ideal for handling structured data. Below is a demonstration of some basic operations you can perform using Pandas.\n",
    "Below is a demonstration of creating a DataFrame using Pandas.\n",
    "\n",
    "### 1.1 Creating a DataFrame \n",
    "\n",
    "A DataFrame is a 2d data structure that can store different types of data in columns. You can think of it as a spreadsheet in Excel."
   ]
  },
  {
   "cell_type": "code",
   "execution_count": 2,
   "metadata": {},
   "outputs": [
    {
     "data": {
      "text/html": [
       "<div>\n",
       "<style scoped>\n",
       "    .dataframe tbody tr th:only-of-type {\n",
       "        vertical-align: middle;\n",
       "    }\n",
       "\n",
       "    .dataframe tbody tr th {\n",
       "        vertical-align: top;\n",
       "    }\n",
       "\n",
       "    .dataframe thead th {\n",
       "        text-align: right;\n",
       "    }\n",
       "</style>\n",
       "<table border=\"1\" class=\"dataframe\">\n",
       "  <thead>\n",
       "    <tr style=\"text-align: right;\">\n",
       "      <th></th>\n",
       "      <th>Name</th>\n",
       "      <th>Age</th>\n",
       "      <th>Gender</th>\n",
       "    </tr>\n",
       "  </thead>\n",
       "  <tbody>\n",
       "    <tr>\n",
       "      <th>0</th>\n",
       "      <td>Alice</td>\n",
       "      <td>25</td>\n",
       "      <td>F</td>\n",
       "    </tr>\n",
       "    <tr>\n",
       "      <th>1</th>\n",
       "      <td>Bob</td>\n",
       "      <td>30</td>\n",
       "      <td>M</td>\n",
       "    </tr>\n",
       "    <tr>\n",
       "      <th>2</th>\n",
       "      <td>Charlie</td>\n",
       "      <td>35</td>\n",
       "      <td>M</td>\n",
       "    </tr>\n",
       "  </tbody>\n",
       "</table>\n",
       "</div>"
      ],
      "text/plain": [
       "      Name  Age Gender\n",
       "0    Alice   25      F\n",
       "1      Bob   30      M\n",
       "2  Charlie   35      M"
      ]
     },
     "execution_count": 2,
     "metadata": {},
     "output_type": "execute_result"
    }
   ],
   "source": [
    "import pandas as pd\n",
    "\n",
    "data = { # We can use a dictionary to create a DataFrame\n",
    "    'Name': ['Alice', 'Bob', 'Charlie'], #This will add values to the first column\n",
    "    'Age': [25, 30, 35], #This will add values to the second column\n",
    "    'Gender': ['F', 'M', 'M'] #This will add values to the third column\n",
    "}\n",
    "df = pd.DataFrame(data) #This will create a DataFrame from the data we have\n",
    "df #This will display the DataFrame"
   ]
  },
  {
   "cell_type": "markdown",
   "metadata": {},
   "source": [
    "### 1.2 Save to file\n",
    "\n",
    "We can then save this to a file using the following code:"
   ]
  },
  {
   "cell_type": "code",
   "execution_count": 3,
   "metadata": {},
   "outputs": [],
   "source": [
    "df.to_csv(path_or_buf='output.csv', index=False) \n",
    "# Here index is set to False as we dont need to save \n",
    "# the indexes of the data to the file"
   ]
  },
  {
   "cell_type": "markdown",
   "metadata": {},
   "source": [
    "### 1.3 Reading Data from a File\n",
    "\n",
    "Pandas can read data from various file formats, such as CSV, Excel, and SQL databases. Here is an example of reading data from a CSV file using the one we created above:"
   ]
  },
  {
   "cell_type": "code",
   "execution_count": 4,
   "metadata": {},
   "outputs": [
    {
     "data": {
      "text/html": [
       "<div>\n",
       "<style scoped>\n",
       "    .dataframe tbody tr th:only-of-type {\n",
       "        vertical-align: middle;\n",
       "    }\n",
       "\n",
       "    .dataframe tbody tr th {\n",
       "        vertical-align: top;\n",
       "    }\n",
       "\n",
       "    .dataframe thead th {\n",
       "        text-align: right;\n",
       "    }\n",
       "</style>\n",
       "<table border=\"1\" class=\"dataframe\">\n",
       "  <thead>\n",
       "    <tr style=\"text-align: right;\">\n",
       "      <th></th>\n",
       "      <th>Name</th>\n",
       "      <th>Age</th>\n",
       "      <th>Gender</th>\n",
       "    </tr>\n",
       "  </thead>\n",
       "  <tbody>\n",
       "    <tr>\n",
       "      <th>0</th>\n",
       "      <td>Alice</td>\n",
       "      <td>25</td>\n",
       "      <td>F</td>\n",
       "    </tr>\n",
       "    <tr>\n",
       "      <th>1</th>\n",
       "      <td>Bob</td>\n",
       "      <td>30</td>\n",
       "      <td>M</td>\n",
       "    </tr>\n",
       "    <tr>\n",
       "      <th>2</th>\n",
       "      <td>Charlie</td>\n",
       "      <td>35</td>\n",
       "      <td>M</td>\n",
       "    </tr>\n",
       "  </tbody>\n",
       "</table>\n",
       "</div>"
      ],
      "text/plain": [
       "      Name  Age Gender\n",
       "0    Alice   25      F\n",
       "1      Bob   30      M\n",
       "2  Charlie   35      M"
      ]
     },
     "execution_count": 4,
     "metadata": {},
     "output_type": "execute_result"
    }
   ],
   "source": [
    "new_df = pd.read_csv('output.csv') #This will read the data from the file\n",
    "\n",
    "# we can check if the two dataframes are the same by using the equals method\n",
    "df.equals(other=new_df) #This will return True if the two DataFrames are the same\n",
    "\n",
    "new_df"
   ]
  },
  {
   "cell_type": "markdown",
   "metadata": {},
   "source": [
    "### 1.4 Data Manipulation\n",
    "\n",
    "You can perform various data manipulation operations using Pandas. Here are examples of some common operations:"
   ]
  },
  {
   "cell_type": "code",
   "execution_count": 5,
   "metadata": {},
   "outputs": [
    {
     "name": "stdout",
     "output_type": "stream",
     "text": [
      "Filtered DataFrame (Age > 25):\n",
      "      Name  Age Gender\n",
      "1      Bob   30      M\n",
      "2  Charlie   35      M\n",
      "\n",
      "DataFrame with new column 'Country':\n",
      "      Name  Age Gender Country\n",
      "0    Alice   25      F     USA\n",
      "1      Bob   30      M  Canada\n",
      "2  Charlie   35      M      UK\n",
      "\n",
      "DataFrame after dropping 'Gender' column:\n",
      "      Name  Age Country\n",
      "0    Alice   25     USA\n",
      "1      Bob   30  Canada\n",
      "2  Charlie   35      UK\n",
      "\n",
      "DataFrame with renamed columns:\n",
      "  Full Name  Years Gender Country\n",
      "0     Alice     25      F     USA\n",
      "1       Bob     30      M  Canada\n",
      "2   Charlie     35      M      UK\n",
      "\n",
      "DataFrame sorted by 'Age' in descending order:\n",
      "      Name  Age Gender Country\n",
      "2  Charlie   35      M      UK\n",
      "1      Bob   30      M  Canada\n",
      "0    Alice   25      F     USA\n"
     ]
    }
   ],
   "source": [
    "# Filtering rows based on a condition\n",
    "filtered_df = df[df['Age'] > 25]\n",
    "print(\"Filtered DataFrame (Age > 25):\")\n",
    "print(filtered_df)\n",
    "\n",
    "# Adding a new column\n",
    "df['Country'] = ['USA', 'Canada', 'UK']\n",
    "print(\"\\nDataFrame with new column 'Country':\")\n",
    "print(df)\n",
    "\n",
    "# Dropping a column\n",
    "df_dropped = df.drop(columns=['Gender'])\n",
    "print(\"\\nDataFrame after dropping 'Gender' column:\")\n",
    "print(df_dropped)\n",
    "\n",
    "# Renaming columns\n",
    "df_renamed = df.rename(columns={'Name': 'Full Name', 'Age': 'Years'})\n",
    "print(\"\\nDataFrame with renamed columns:\")\n",
    "print(df_renamed)\n",
    "\n",
    "# Sorting the DataFrame by a column\n",
    "df_sorted = df.sort_values(by='Age', ascending=False)\n",
    "print(\"\\nDataFrame sorted by 'Age' in descending order:\")\n",
    "print(df_sorted)"
   ]
  },
  {
   "cell_type": "markdown",
   "metadata": {},
   "source": [
    "### 1.5 Data Cleaning\n",
    "\n",
    "Data cleaning is an essential step in data preprocessing. It involves identifying and correcting errors in the data to improve its quality and reliability. There are several common data cleaning operations that can be performed with dataframes. It all depends on the data you are working with. Here are some common data cleaning operations alongside when to use them:"
   ]
  },
  {
   "cell_type": "code",
   "execution_count": 6,
   "metadata": {},
   "outputs": [
    {
     "name": "stdout",
     "output_type": "stream",
     "text": [
      "DataFrame with missing values:\n",
      "      Name   Age Gender    Country\n",
      "0    Alice    25      F        USA\n",
      "1      Bob    30      M     Canada\n",
      "2  Charlie    35      M         UK\n",
      "3    David  None      M  Australia\n",
      "4     None    28   None      India\n",
      "\n",
      "DataFrame after dropping rows with missing values:\n",
      "      Name Age Gender Country\n",
      "0    Alice  25      F     USA\n",
      "1      Bob  30      M  Canada\n",
      "2  Charlie  35      M      UK\n"
     ]
    }
   ],
   "source": [
    "# Handling missing values\n",
    "df_cleaned = df.copy()\n",
    "\n",
    "# Adding some dummy data with missing values\n",
    "df_cleaned.loc[3] = ['David', None, 'M', 'Australia']\n",
    "df_cleaned.loc[4] = [None, 28, None, 'India']\n",
    "# Loc is used to access a group of rows and columns by labels\n",
    "\n",
    "print(\"DataFrame with missing values:\")\n",
    "print(df_cleaned)\n",
    "\n",
    "# Dropping rows with missing values\n",
    "df_dropped_na = df_cleaned.dropna()\n",
    "print(\"\\nDataFrame after dropping rows with missing values:\")\n",
    "print(df_dropped_na)\n"
   ]
  },
  {
   "cell_type": "markdown",
   "metadata": {},
   "source": [
    "We use this when missing data represents a small portion of your dataset (<5%) or when the missing values would significantly bias your analysis\n",
    "In the above example a better approach would be to fill the missing values with the replacing the values with either \"Unknown\" or the mean of the column."
   ]
  },
  {
   "cell_type": "code",
   "execution_count": null,
   "metadata": {},
   "outputs": [
    {
     "name": "stdout",
     "output_type": "stream",
     "text": [
      "\n",
      "DataFrame after filling missing values in 'Age' column with mean value:\n",
      "      Name   Age Gender    Country\n",
      "0    Alice  25.0      F        USA\n",
      "1      Bob  30.0      M     Canada\n",
      "2  Charlie  35.0      M         UK\n",
      "3    David  29.5      M  Australia\n",
      "4     None  28.0   None      India\n",
      "\n",
      "DataFrame after filling missing values with 'Unknown':\n"
     ]
    },
    {
     "data": {
      "text/html": [
       "<div>\n",
       "<style scoped>\n",
       "    .dataframe tbody tr th:only-of-type {\n",
       "        vertical-align: middle;\n",
       "    }\n",
       "\n",
       "    .dataframe tbody tr th {\n",
       "        vertical-align: top;\n",
       "    }\n",
       "\n",
       "    .dataframe thead th {\n",
       "        text-align: right;\n",
       "    }\n",
       "</style>\n",
       "<table border=\"1\" class=\"dataframe\">\n",
       "  <thead>\n",
       "    <tr style=\"text-align: right;\">\n",
       "      <th></th>\n",
       "      <th>Name</th>\n",
       "      <th>Age</th>\n",
       "      <th>Gender</th>\n",
       "      <th>Country</th>\n",
       "    </tr>\n",
       "  </thead>\n",
       "  <tbody>\n",
       "    <tr>\n",
       "      <th>0</th>\n",
       "      <td>Alice</td>\n",
       "      <td>25.0</td>\n",
       "      <td>F</td>\n",
       "      <td>USA</td>\n",
       "    </tr>\n",
       "    <tr>\n",
       "      <th>1</th>\n",
       "      <td>Bob</td>\n",
       "      <td>30.0</td>\n",
       "      <td>M</td>\n",
       "      <td>Canada</td>\n",
       "    </tr>\n",
       "    <tr>\n",
       "      <th>2</th>\n",
       "      <td>Charlie</td>\n",
       "      <td>35.0</td>\n",
       "      <td>M</td>\n",
       "      <td>UK</td>\n",
       "    </tr>\n",
       "    <tr>\n",
       "      <th>3</th>\n",
       "      <td>David</td>\n",
       "      <td>29.5</td>\n",
       "      <td>M</td>\n",
       "      <td>Australia</td>\n",
       "    </tr>\n",
       "    <tr>\n",
       "      <th>4</th>\n",
       "      <td>Unknown</td>\n",
       "      <td>28.0</td>\n",
       "      <td>Unknown</td>\n",
       "      <td>India</td>\n",
       "    </tr>\n",
       "  </tbody>\n",
       "</table>\n",
       "</div>"
      ],
      "text/plain": [
       "      Name   Age   Gender    Country\n",
       "0    Alice  25.0        F        USA\n",
       "1      Bob  30.0        M     Canada\n",
       "2  Charlie  35.0        M         UK\n",
       "3    David  29.5        M  Australia\n",
       "4  Unknown  28.0  Unknown      India"
      ]
     },
     "execution_count": 10,
     "metadata": {},
     "output_type": "execute_result"
    }
   ],
   "source": [
    "# Fill the numeric columns with the mean value\n",
    "df_cleaned['Age'] = df_cleaned['Age'].fillna(df_cleaned['Age'].mean())\n",
    "print(\"\\nDataFrame after filling missing values in 'Age' column with mean value:\")\n",
    "print(df_cleaned)\n",
    "\n",
    "# Filling missing values with a default value\n",
    "df_filled_na = df_cleaned.fillna(value='Unknown')\n",
    "print(\"\\nDataFrame after filling missing values with 'Unknown':\")\n",
    "df_filled_na"
   ]
  },
  {
   "cell_type": "markdown",
   "metadata": {},
   "source": [
    "This approach is better as it does not remove any data from the dataset. So whatever we do with this data next will be more accurate."
   ]
  },
  {
   "cell_type": "code",
   "execution_count": null,
   "metadata": {},
   "outputs": [],
   "source": []
  }
 ],
 "metadata": {
  "kernelspec": {
   "display_name": ".venv",
   "language": "python",
   "name": "python3"
  },
  "language_info": {
   "codemirror_mode": {
    "name": "ipython",
    "version": 3
   },
   "file_extension": ".py",
   "mimetype": "text/x-python",
   "name": "python",
   "nbconvert_exporter": "python",
   "pygments_lexer": "ipython3",
   "version": "3.11.2"
  }
 },
 "nbformat": 4,
 "nbformat_minor": 2
}
